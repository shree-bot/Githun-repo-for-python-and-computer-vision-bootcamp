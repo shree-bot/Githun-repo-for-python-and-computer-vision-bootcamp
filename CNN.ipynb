{
 "cells": [
  {
   "cell_type": "code",
   "execution_count": 1,
   "metadata": {
    "colab": {
     "base_uri": "https://localhost:8080/"
    },
    "id": "r7_OJPlYYNtX",
    "outputId": "ee32a09c-0aec-4879-d4b6-741d524b14a6"
   },
   "outputs": [
    {
     "name": "stdout",
     "output_type": "stream",
     "text": [
      "Requirement already satisfied: keras-tuner in d:\\anaconda3\\lib\\site-packages (1.0.2)\n",
      "Requirement already satisfied: scikit-learn in d:\\anaconda3\\lib\\site-packages (from keras-tuner) (0.24.1)\n",
      "Requirement already satisfied: tabulate in d:\\anaconda3\\lib\\site-packages (from keras-tuner) (0.8.9)\n",
      "Requirement already satisfied: packaging in d:\\anaconda3\\lib\\site-packages (from keras-tuner) (20.9)\n",
      "Requirement already satisfied: future in d:\\anaconda3\\lib\\site-packages (from keras-tuner) (0.18.2)\n",
      "Requirement already satisfied: terminaltables in d:\\anaconda3\\lib\\site-packages (from keras-tuner) (3.1.0)\n",
      "Requirement already satisfied: tqdm in d:\\anaconda3\\lib\\site-packages (from keras-tuner) (4.59.0)\n",
      "Requirement already satisfied: scipy in d:\\anaconda3\\lib\\site-packages (from keras-tuner) (1.6.2)\n",
      "Requirement already satisfied: numpy in d:\\anaconda3\\lib\\site-packages (from keras-tuner) (1.19.5)\n",
      "Requirement already satisfied: colorama in d:\\anaconda3\\lib\\site-packages (from keras-tuner) (0.4.4)\n",
      "Requirement already satisfied: requests in d:\\anaconda3\\lib\\site-packages (from keras-tuner) (2.25.1)\n",
      "Requirement already satisfied: pyparsing>=2.0.2 in d:\\anaconda3\\lib\\site-packages (from packaging->keras-tuner) (2.4.7)\n",
      "Requirement already satisfied: urllib3<1.27,>=1.21.1 in d:\\anaconda3\\lib\\site-packages (from requests->keras-tuner) (1.26.4)\n",
      "Requirement already satisfied: certifi>=2017.4.17 in d:\\anaconda3\\lib\\site-packages (from requests->keras-tuner) (2020.12.5)\n",
      "Requirement already satisfied: chardet<5,>=3.0.2 in d:\\anaconda3\\lib\\site-packages (from requests->keras-tuner) (4.0.0)\n",
      "Requirement already satisfied: idna<3,>=2.5 in d:\\anaconda3\\lib\\site-packages (from requests->keras-tuner) (2.10)\n",
      "Requirement already satisfied: threadpoolctl>=2.0.0 in d:\\anaconda3\\lib\\site-packages (from scikit-learn->keras-tuner) (2.1.0)\n",
      "Requirement already satisfied: joblib>=0.11 in d:\\anaconda3\\lib\\site-packages (from scikit-learn->keras-tuner) (1.0.1)\n"
     ]
    }
   ],
   "source": [
    "!pip install keras-tuner"
   ]
  },
  {
   "cell_type": "code",
   "execution_count": 2,
   "metadata": {
    "id": "ndId7oRRYZxN"
   },
   "outputs": [],
   "source": [
    "import tensorflow as tf\n",
    "from tensorflow import keras\n",
    "import numpy as np"
   ]
  },
  {
   "cell_type": "code",
   "execution_count": 3,
   "metadata": {
    "id": "e6xsNT7HYlHE"
   },
   "outputs": [],
   "source": [
    "fashion_mnist = keras.datasets.fashion_mnist"
   ]
  },
  {
   "cell_type": "code",
   "execution_count": 4,
   "metadata": {
    "colab": {
     "base_uri": "https://localhost:8080/"
    },
    "id": "qxDA9AH1YuKg",
    "outputId": "6e88a6b8-d3a8-47f9-f71e-682298cb463d"
   },
   "outputs": [],
   "source": [
    "(train_images, train_labels), (test_images, test_labels) = fashion_mnist.load_data()"
   ]
  },
  {
   "cell_type": "code",
   "execution_count": 5,
   "metadata": {
    "id": "23t4nMpiZMUN"
   },
   "outputs": [],
   "source": [
    "train_images = train_images/255.0\n",
    "test_images = test_images/255.0"
   ]
  },
  {
   "cell_type": "code",
   "execution_count": 6,
   "metadata": {
    "id": "5ObmQNm3acts"
   },
   "outputs": [],
   "source": [
    "test_images = test_images.reshape(len(test_images), 28, 28, 1)\n",
    "train_images = train_images.reshape(len(train_images), 28, 28, 1)"
   ]
  },
  {
   "cell_type": "code",
   "execution_count": 7,
   "metadata": {
    "id": "8zmFPx_Cbr6D"
   },
   "outputs": [],
   "source": [
    "def build_model(hp):\n",
    "  model = keras.Sequential(\n",
    "      [\n",
    "       keras.layers.Conv2D(\n",
    "           filters = hp.Int('conv_1_filter', min_value = 32, max_value = 128, step = 16),\n",
    "           kernel_size = hp.Choice('conv_1_kernel', values= [3,5]),\n",
    "           activation = 'relu',\n",
    "           input_shape = (28, 28, 1)\n",
    "       ),\n",
    "       keras.layers.Conv2D(\n",
    "           filters = hp.Int('conv_2_filter', min_value = 32, max_value = 64, step = 16),\n",
    "           kernel_size = hp.Choice('conv_2_kernel', values= [3,5]),\n",
    "           activation = 'relu',\n",
    "       ),\n",
    "       keras.layers.Flatten(),\n",
    "       keras.layers.Dense(\n",
    "           units = hp.Int('dense_1_units', min_value = 32, max_value = 128, step = 16),\n",
    "           activation = 'relu'\n",
    "       )\n",
    "      ])\n",
    "  model.compile( optimizer = keras.optimizers.Adam(hp.Choice('learning_rate', values = [1e-2, 1e-3])), loss = 'sparse_categorical_crossentropy',\n",
    "    metrics=['accuracy'])\n",
    "  return model\n"
   ]
  },
  {
   "cell_type": "code",
   "execution_count": 8,
   "metadata": {
    "id": "qna14aR7e1pJ"
   },
   "outputs": [],
   "source": [
    "from kerastuner import RandomSearch\n",
    "from kerastuner.engine.hyperparameters import HyperParameters"
   ]
  },
  {
   "cell_type": "code",
   "execution_count": 9,
   "metadata": {
    "id": "c_y4r3L5fCLg"
   },
   "outputs": [],
   "source": [
    "tuner_search = RandomSearch(build_model, objective = 'val_accuracy', max_trials = 5, directory = 'output', project_name = 'Mnist Fashion')"
   ]
  },
  {
   "cell_type": "code",
   "execution_count": null,
   "metadata": {
    "colab": {
     "base_uri": "https://localhost:8080/"
    },
    "id": "6LQlm4fggXin",
    "outputId": "5264df2d-ee93-46aa-bff0-52cc2ff9c987"
   },
   "outputs": [
    {
     "name": "stdout",
     "output_type": "stream",
     "text": [
      "\n",
      "Search: Running Trial #1\n",
      "\n",
      "Hyperparameter    |Value             |Best Value So Far \n",
      "conv_1_filter     |64                |?                 \n",
      "conv_1_kernel     |5                 |?                 \n",
      "conv_2_filter     |64                |?                 \n",
      "conv_2_kernel     |5                 |?                 \n",
      "dense_1_units     |64                |?                 \n",
      "learning_rate     |0.001             |?                 \n",
      "\n",
      "Epoch 1/3\n",
      "1688/1688 [==============================] - 203s 118ms/step - loss: 4.1746 - accuracy: 0.1005 - val_loss: 4.1589 - val_accuracy: 0.1050\n",
      "Epoch 2/3\n",
      "1644/1688 [============================>.] - ETA: 6s - loss: 4.1588 - accuracy: 0.0993"
     ]
    }
   ],
   "source": [
    "tuner_search.search(train_images, train_labels, epochs = 3, validation_split = 0.1)"
   ]
  },
  {
   "cell_type": "code",
   "execution_count": null,
   "metadata": {
    "id": "Wv_d2YyWfSfx"
   },
   "outputs": [],
   "source": [
    "model = tuner_search.get_best_models(num_models = 1)[0]"
   ]
  },
  {
   "cell_type": "code",
   "execution_count": 12,
   "metadata": {
    "colab": {
     "base_uri": "https://localhost:8080/"
    },
    "id": "QpWO3Spngxxg",
    "outputId": "5b45ef46-6fa0-4a69-bcb1-50ba381c1f52"
   },
   "outputs": [
    {
     "name": "stdout",
     "output_type": "stream",
     "text": [
      "Model: \"sequential\"\n",
      "_________________________________________________________________\n",
      "Layer (type)                 Output Shape              Param #   \n",
      "=================================================================\n",
      "conv2d (Conv2D)              (None, 24, 24, 96)        2496      \n",
      "_________________________________________________________________\n",
      "conv2d_1 (Conv2D)            (None, 20, 20, 32)        76832     \n",
      "_________________________________________________________________\n",
      "flatten (Flatten)            (None, 12800)             0         \n",
      "_________________________________________________________________\n",
      "dense (Dense)                (None, 112)               1433712   \n",
      "=================================================================\n",
      "Total params: 1,513,040\n",
      "Trainable params: 1,513,040\n",
      "Non-trainable params: 0\n",
      "_________________________________________________________________\n"
     ]
    }
   ],
   "source": [
    "model.summary()"
   ]
  }
 ],
 "metadata": {
  "colab": {
   "collapsed_sections": [],
   "name": "CNN.ipynb",
   "provenance": []
  },
  "kernelspec": {
   "display_name": "Python 3",
   "language": "python",
   "name": "python3"
  },
  "language_info": {
   "codemirror_mode": {
    "name": "ipython",
    "version": 3
   },
   "file_extension": ".py",
   "mimetype": "text/x-python",
   "name": "python",
   "nbconvert_exporter": "python",
   "pygments_lexer": "ipython3",
   "version": "3.8.8"
  }
 },
 "nbformat": 4,
 "nbformat_minor": 1
}
